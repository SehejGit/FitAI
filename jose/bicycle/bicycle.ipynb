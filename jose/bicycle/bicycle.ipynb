{
 "cells": [
  {
   "cell_type": "code",
   "execution_count": null,
   "id": "3f04d244",
   "metadata": {},
   "outputs": [
    {
     "name": "stderr",
     "output_type": "stream",
     "text": [
      "I0000 00:00:1746472917.039202 4171283 gl_context.cc:369] GL version: 2.1 (2.1 Metal - 88.1), renderer: Apple M3\n"
     ]
    },
    {
     "name": "stderr",
     "output_type": "stream",
     "text": [
      "W0000 00:00:1746472917.160235 4204246 inference_feedback_manager.cc:114] Feedback manager requires a model with a single signature inference. Disabling support for feedback tensors.\n",
      "W0000 00:00:1746472917.186211 4204246 inference_feedback_manager.cc:114] Feedback manager requires a model with a single signature inference. Disabling support for feedback tensors.\n"
     ]
    }
   ],
   "source": [
    "import mediapipe as mp\n",
    "import cv2\n",
    "import numpy as np\n",
    "import math\n",
    "\n",
    "mp_pose = mp.solutions.pose\n",
    "mp_drawing = mp.solutions.drawing_utils\n",
    "pose = mp_pose.Pose(static_image_mode=False, min_detection_confidence=0.5)\n",
    "\n",
    "def analyze_bicycle_crunch(video_path, output_video_path=None):\n",
    "    cap = cv2.VideoCapture(video_path)\n",
    "    frame_width = int(cap.get(cv2.CAP_PROP_FRAME_WIDTH))\n",
    "    frame_height = int(cap.get(cv2.CAP_PROP_FRAME_HEIGHT))\n",
    "    fps = int(cap.get(cv2.CAP_PROP_FPS))\n",
    "\n",
    "    if output_video_path:\n",
    "        fourcc = cv2.VideoWriter_fourcc(*'mp4v')\n",
    "        out = cv2.VideoWriter(output_video_path, fourcc, fps, (frame_width, frame_height))\n",
    "\n",
    "    # Bicycle crunch variables\n",
    "    crunch_count = 0\n",
    "    twist_state = \"none\"  # Track the twist state: none, left, center, right\n",
    "    last_direction = None\n",
    "    \n",
    "    # Metrics to track\n",
    "    elbow_knee_distances = []\n",
    "    leg_extensions = []\n",
    "    shoulder_elevations = []\n",
    "    torso_rotations = []\n",
    "    neck_positions = []\n",
    "    breath_patterns = []\n",
    "    hip_stability = []\n",
    "    \n",
    "    print(f\"Video dimensions: {frame_width}x{frame_height}, FPS: {fps}\")\n",
    "\n",
    "    def calculate_distance(point1, point2):\n",
    "        return math.sqrt((point2[0] - point1[0])**2 + (point2[1] - point1[1])**2)\n",
    "\n",
    "    while cap.isOpened():\n",
    "        success, image = cap.read()\n",
    "        if not success:\n",
    "            break\n",
    "            \n",
    "        image_rgb = cv2.cvtColor(image, cv2.COLOR_BGR2RGB)\n",
    "        results = pose.process(image_rgb)\n",
    "        annotated_image = image.copy()\n",
    "\n",
    "        if results.pose_landmarks:\n",
    "            landmarks = results.pose_landmarks.landmark\n",
    "            \n",
    "            # Get key points\n",
    "            left_shoulder = [landmarks[mp_pose.PoseLandmark.LEFT_SHOULDER.value].x,\n",
    "                            landmarks[mp_pose.PoseLandmark.LEFT_SHOULDER.value].y]\n",
    "            right_shoulder = [landmarks[mp_pose.PoseLandmark.RIGHT_SHOULDER.value].x,\n",
    "                             landmarks[mp_pose.PoseLandmark.RIGHT_SHOULDER.value].y]\n",
    "            left_elbow = [landmarks[mp_pose.PoseLandmark.LEFT_ELBOW.value].x,\n",
    "                         landmarks[mp_pose.PoseLandmark.LEFT_ELBOW.value].y]\n",
    "            right_elbow = [landmarks[mp_pose.PoseLandmark.RIGHT_ELBOW.value].x,\n",
    "                          landmarks[mp_pose.PoseLandmark.RIGHT_ELBOW.value].y]\n",
    "            left_hip = [landmarks[mp_pose.PoseLandmark.LEFT_HIP.value].x,\n",
    "                       landmarks[mp_pose.PoseLandmark.LEFT_HIP.value].y]\n",
    "            right_hip = [landmarks[mp_pose.PoseLandmark.RIGHT_HIP.value].x,\n",
    "                        landmarks[mp_pose.PoseLandmark.RIGHT_HIP.value].y]\n",
    "            left_knee = [landmarks[mp_pose.PoseLandmark.LEFT_KNEE.value].x,\n",
    "                         landmarks[mp_pose.PoseLandmark.LEFT_KNEE.value].y]\n",
    "            right_knee = [landmarks[mp_pose.PoseLandmark.RIGHT_KNEE.value].x,\n",
    "                          landmarks[mp_pose.PoseLandmark.RIGHT_KNEE.value].y]\n",
    "            left_ankle = [landmarks[mp_pose.PoseLandmark.LEFT_ANKLE.value].x,\n",
    "                          landmarks[mp_pose.PoseLandmark.LEFT_ANKLE.value].y]\n",
    "            right_ankle = [landmarks[mp_pose.PoseLandmark.RIGHT_ANKLE.value].x,\n",
    "                           landmarks[mp_pose.PoseLandmark.RIGHT_ANKLE.value].y]\n",
    "            \n",
    "            # Calculate midpoints\n",
    "            mid_shoulder = [(left_shoulder[0] + right_shoulder[0])/2, (left_shoulder[1] + right_shoulder[1])/2]\n",
    "            mid_hip = [(left_hip[0] + right_hip[0])/2, (left_hip[1] + right_hip[1])/2]\n",
    "            \n",
    "            # 1. Check if shoulders are elevated (off the ground)\n",
    "            shoulder_height = (left_shoulder[1] + right_shoulder[1])/2\n",
    "            hip_height = (left_hip[1] + right_hip[1])/2\n",
    "            shoulder_elevated = shoulder_height < hip_height - 0.05  # Shoulders should be slightly raised\n",
    "            shoulder_elevations.append(shoulder_elevated)\n",
    "            \n",
    "            # 2. Calculate distances between elbows and opposite knees\n",
    "            left_elbow_right_knee_dist = calculate_distance(left_elbow, right_knee)\n",
    "            right_elbow_left_knee_dist = calculate_distance(right_elbow, left_knee)\n",
    "            min_elbow_knee_dist = min(left_elbow_right_knee_dist, right_elbow_left_knee_dist)\n",
    "            elbow_knee_distances.append(min_elbow_knee_dist)\n",
    "            \n",
    "            # 3. Check leg extension (one leg should be extended while the other is bent)\n",
    "            left_leg_extended = calculate_distance(left_hip, left_ankle) > calculate_distance(left_hip, left_knee) * 1.5\n",
    "            right_leg_extended = calculate_distance(right_hip, right_ankle) > calculate_distance(right_hip, right_knee) * 1.5\n",
    "            leg_extension = left_leg_extended or right_leg_extended\n",
    "            leg_extensions.append(leg_extension)\n",
    "\n",
    "\n",
    "            shoulder_hip_angle = math.atan2(mid_shoulder[1] - mid_hip[1], mid_shoulder[0] - mid_hip[0])\n",
    "            proper_rotation = abs(shoulder_hip_angle) > 0.05  # Should rotate sufficiently\n",
    "            torso_rotations.append(proper_rotation)\n",
    "\n",
    "            # Check neck position\n",
    "            nose = [landmarks[mp_pose.PoseLandmark.NOSE.value].x, landmarks[mp_pose.PoseLandmark.NOSE.value].y]\n",
    "            neck_neutral = abs(nose[0] - mid_shoulder[0]) < 0.1  # Neck should be neutral\n",
    "            neck_positions.append(neck_neutral)\n",
    "\n",
    "            # Check hip stability\n",
    "            hip_stable = abs(left_hip[0] - right_hip[0]) < 0.15  # Limited side-to-side movement\n",
    "            hip_stability.append(hip_stable)\n",
    "            \n",
    "            # Determine crunch direction based on which elbow is closer to opposite knee\n",
    "            if left_elbow_right_knee_dist < right_elbow_left_knee_dist:\n",
    "                current_direction = \"left\"  # Left elbow to right knee\n",
    "            else:\n",
    "                current_direction = \"right\"  # Right elbow to left knee\n",
    "                \n",
    "            # State machine for counting complete bicycle crunches\n",
    "            if twist_state == \"none\":\n",
    "                if current_direction == \"left\" and min_elbow_knee_dist < 0.2 and leg_extension:\n",
    "                    twist_state = \"left\"\n",
    "                elif current_direction == \"right\" and min_elbow_knee_dist < 0.2 and leg_extension:\n",
    "                    twist_state = \"right\"\n",
    "            elif twist_state == \"left\":\n",
    "                if current_direction == \"right\" and min_elbow_knee_dist < 0.2 and leg_extension:\n",
    "                    crunch_count += 1\n",
    "                    twist_state = \"right\"\n",
    "            elif twist_state == \"right\":\n",
    "                if current_direction == \"left\" and min_elbow_knee_dist < 0.2 and leg_extension:\n",
    "                    crunch_count += 1\n",
    "                    twist_state = \"left\"\n",
    "            \n",
    "            last_direction = current_direction\n",
    "\n",
    "            # Draw pose landmarks\n",
    "            mp_drawing.draw_landmarks(\n",
    "                annotated_image,\n",
    "                results.pose_landmarks,\n",
    "                mp_pose.POSE_CONNECTIONS,\n",
    "                mp_drawing.DrawingSpec(color=(245, 117, 66), thickness=2, circle_radius=2),\n",
    "                mp_drawing.DrawingSpec(color=(245, 66, 230), thickness=2, circle_radius=2)\n",
    "            )\n",
    "\n",
    "            # Display metrics\n",
    "            cv2.putText(annotated_image, f\"Crunch Count: {crunch_count}\", (10, 30),\n",
    "                        cv2.FONT_HERSHEY_SIMPLEX, 0.7, (0, 255, 0), 2, cv2.LINE_AA)\n",
    "            cv2.putText(annotated_image, f\"Direction: {current_direction}\", (10, 60),\n",
    "                        cv2.FONT_HERSHEY_SIMPLEX, 0.7, (0, 255, 255), 2, cv2.LINE_AA)\n",
    "            cv2.putText(annotated_image, f\"State: {twist_state}\", (10, 90),\n",
    "                        cv2.FONT_HERSHEY_SIMPLEX, 0.7, (255, 0, 255), 2, cv2.LINE_AA)\n",
    "            cv2.putText(annotated_image, f\"Shoulders Up: {'Yes' if shoulder_elevated else 'No'}\", (10, 120),\n",
    "                        cv2.FONT_HERSHEY_SIMPLEX, 0.7, (255, 255, 0), 2, cv2.LINE_AA)\n",
    "            cv2.putText(annotated_image, f\"Leg Extended: {'Yes' if leg_extension else 'No'}\", (10, 150),\n",
    "                        cv2.FONT_HERSHEY_SIMPLEX, 0.7, (0, 255, 255), 2, cv2.LINE_AA)\n",
    "\n",
    "        if output_video_path:\n",
    "            out.write(annotated_image)\n",
    "\n",
    "    cap.release()\n",
    "    if output_video_path:\n",
    "        out.release()\n",
    "\n",
    "    # Calculate averages and prepare feedback\n",
    "    if len(shoulder_elevations) < 10:\n",
    "        return {\n",
    "            \"crunch_count\": 0,\n",
    "            \"error\": \"Not enough valid pose detections. Check video quality and positioning.\"\n",
    "        }\n",
    "\n",
    "    shoulder_elevation_percent = sum(1 for s in shoulder_elevations if s) / len(shoulder_elevations) * 100\n",
    "    leg_extension_percent = sum(1 for l in leg_extensions if l) / len(leg_extensions) * 100\n",
    "    avg_elbow_knee_dist = sum(elbow_knee_distances) / len(elbow_knee_distances)\n",
    "\n",
    "    feedback = {\n",
    "        \"crunch_count\": crunch_count,\n",
    "        \"form_analysis\": {\n",
    "            \"shoulder_elevation_percent\": shoulder_elevation_percent,\n",
    "            \"leg_extension_percent\": leg_extension_percent,\n",
    "            \"avg_elbow_knee_dist\": avg_elbow_knee_dist\n",
    "        },\n",
    "        \"feedback\": []\n",
    "    }\n",
    "\n",
    "    # Generate feedback\n",
    "    if shoulder_elevation_percent < 10: #10 is the best?\n",
    "        feedback[\"feedback\"].append(\"Keep your shoulders lifted off the ground throughout the exercise.\")\n",
    "    if leg_extension_percent < 40:\n",
    "        feedback[\"feedback\"].append(\"Focus on fully extending one leg while bringing the other knee toward your chest.\")\n",
    "    if avg_elbow_knee_dist > 0.25:\n",
    "        feedback[\"feedback\"].append(\"Try to bring your elbow closer to the opposite knee for a more effective crunch.\")\n",
    "    if crunch_count < 5:\n",
    "        feedback[\"feedback\"].append(\"Maintain a steady rhythm, alternating sides in a pedaling motion.\")\n",
    "\n",
    "    if sum(1 for r in torso_rotations if r) / len(torso_rotations) * 100 < 50:\n",
    "        feedback[\"feedback\"].append(\"Increase your torso rotation to engage obliques more effectively.\")\n",
    "    \n",
    "    if sum(1 for n in neck_positions if n) / len(neck_positions) * 100 < 60:\n",
    "        feedback[\"feedback\"].append(\"Keep your neck relaxed and chin slightly tucked to avoid strain.\")\n",
    "        \n",
    "    if sum(1 for h in hip_stability if h) / len(hip_stability) * 100 < 60:\n",
    "        feedback[\"feedback\"].append(\"Stabilize your hips more to better isolate your core muscles.\")\n",
    "        \n",
    "    feedback[\"feedback\"].append(\"Tip: Remember to breathe out as you crunch and breathe in as you extend your legs.\")\n",
    "\n",
    "    return feedback\n"
   ]
  },
  {
   "cell_type": "code",
   "execution_count": 28,
   "id": "6a2b95a2",
   "metadata": {},
   "outputs": [
    {
     "name": "stdout",
     "output_type": "stream",
     "text": [
      "Video dimensions: 1280x720, FPS: 30\n",
      "Completed 0 reps\n",
      "- Focus on fully extending one leg while bringing the other knee toward your chest.\n",
      "- Maintain a steady rhythm, alternating sides in a pedaling motion.\n",
      "- Remember to breathe out as you crunch and breathe in as you extend your legs.\n"
     ]
    }
   ],
   "source": [
    "# For analyzing a video file\n",
    "results = analyze_bicycle_crunch(\"bicycle.mp4\", \"output.mp4\")\n",
    "\n",
    "# To print the results\n",
    "print(f\"Completed {results['crunch_count']} reps\")\n",
    "for feedback in results['feedback']:\n",
    "    print(f\"- {feedback}\")\n"
   ]
  },
  {
   "cell_type": "code",
   "execution_count": 24,
   "id": "c8e2fd4b",
   "metadata": {},
   "outputs": [
    {
     "data": {
      "text/plain": [
       "{'crunch_count': 0,\n",
       " 'form_analysis': {'shoulder_elevation_percent': 19.894598155467722,\n",
       "  'leg_extension_percent': 7.246376811594203,\n",
       "  'avg_elbow_knee_dist': 0.15967851127425572},\n",
       " 'feedback': ['Focus on fully extending one leg while bringing the other knee toward your chest.',\n",
       "  'Maintain a steady rhythm, alternating sides in a pedaling motion.']}"
      ]
     },
     "execution_count": 24,
     "metadata": {},
     "output_type": "execute_result"
    }
   ],
   "source": [
    "results"
   ]
  },
  {
   "cell_type": "code",
   "execution_count": 26,
   "id": "a428c3a6",
   "metadata": {},
   "outputs": [
    {
     "name": "stdout",
     "output_type": "stream",
     "text": [
      "Video dimensions: 1920x1080, FPS: 23\n",
      "Completed 9 reps\n",
      "- Remember to breathe out as you crunch and breathe in as you extend your legs.\n"
     ]
    }
   ],
   "source": [
    "# For analyzing a video file\n",
    "results = analyze_bicycle_crunch(\"two.mp4\", \"output2.mp4\")\n",
    "\n",
    "\n",
    "# To print the results\n",
    "print(f\"Completed {results['crunch_count']} reps\")\n",
    "for feedback in results['feedback']:\n",
    "    print(f\"- {feedback}\")\n"
   ]
  },
  {
   "cell_type": "code",
   "execution_count": 27,
   "id": "50aa3f4c",
   "metadata": {},
   "outputs": [
    {
     "data": {
      "text/plain": [
       "{'crunch_count': 9,\n",
       " 'form_analysis': {'shoulder_elevation_percent': 12.376933895921239,\n",
       "  'leg_extension_percent': 40.225035161744024,\n",
       "  'avg_elbow_knee_dist': 0.14076080339739444},\n",
       " 'feedback': ['Remember to breathe out as you crunch and breathe in as you extend your legs.']}"
      ]
     },
     "execution_count": 27,
     "metadata": {},
     "output_type": "execute_result"
    }
   ],
   "source": [
    "results"
   ]
  }
 ],
 "metadata": {
  "kernelspec": {
   "display_name": "mlops",
   "language": "python",
   "name": "python3"
  },
  "language_info": {
   "codemirror_mode": {
    "name": "ipython",
    "version": 3
   },
   "file_extension": ".py",
   "mimetype": "text/x-python",
   "name": "python",
   "nbconvert_exporter": "python",
   "pygments_lexer": "ipython3",
   "version": "3.12.9"
  }
 },
 "nbformat": 4,
 "nbformat_minor": 5
}
